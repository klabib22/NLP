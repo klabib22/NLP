{
 "cells": [
  {
   "cell_type": "code",
   "execution_count": 2,
   "id": "47a1023f-55ca-462e-be22-ea4a1d90f212",
   "metadata": {},
   "outputs": [],
   "source": [
    "import numpy as np\n",
    "import random\n",
    "\n",
    "import tensorflow as tf\n",
    "from tensorflow.keras.models import Sequential\n",
    "from tensorflow.keras.layers import LSTM,GRU,Dense \n",
    "from tensorflow.keras.optimizers import Adam\n"
   ]
  },
  {
   "cell_type": "code",
   "execution_count": 3,
   "id": "76b1dbeb-14bb-477c-8494-e44f3da8ff4f",
   "metadata": {},
   "outputs": [],
   "source": [
    "with open(\"dylanthomas.txt\") as T:\n",
    "    rage = T.read()"
   ]
  },
  {
   "cell_type": "code",
   "execution_count": 4,
   "id": "a0063e85-c0fd-45dd-86be-f62fbf28be80",
   "metadata": {},
   "outputs": [
    {
     "name": "stdout",
     "output_type": "stream",
     "text": [
      "Do not go gentle into that good night,\n",
      "Old age should burn and rave at close of day;\n",
      "Rage, rage against the dying of the light.\n",
      "\n",
      "Though wise men at their end know dark is right,\n",
      "Because their words had forked no lightning they\n",
      "Do not go gentle into that good night.\n",
      "\n",
      "Good men, the last wave by, crying how bright\n",
      "Their frail deeds might have danced in a green bay,\n",
      "Rage, rage against the dying of the light.\n",
      "\n",
      "Wild men who caught and sang the sun in flight,\n",
      "And learn, too late, they grieve it on its way,\n",
      "Do not go gentle into that good night.\n",
      "\n",
      "Grave men, near death, who see with blinding sight\n",
      "Blind eyes could blaze like meteors and be gay,\n",
      "Rage, rage against the dying of the light.\n",
      "\n",
      "And you, my father, there on the sad height,\n",
      "Curse, bless, me now with your fierce tears, I pray.\n",
      "Do not go gentle into that good night.\n",
      "Rage, rage against the dying of the light.\n"
     ]
    }
   ],
   "source": [
    "print(rage)"
   ]
  },
  {
   "cell_type": "code",
   "execution_count": 5,
   "id": "39522b12-8150-47ec-b293-68dd1a661486",
   "metadata": {},
   "outputs": [],
   "source": [
    "text_vec_layer = tf.keras.layers.TextVectorization(standardize = \"lower\")\n",
    "text_vec_layer.adapt([rage])"
   ]
  },
  {
   "cell_type": "code",
   "execution_count": 6,
   "id": "cf6c2a76-34f9-4c4f-8e9a-0ee04380de7d",
   "metadata": {},
   "outputs": [],
   "source": [
    "encoded = text_vec_layer([rage])[0]"
   ]
  },
  {
   "cell_type": "code",
   "execution_count": 7,
   "id": "2a97702b-33bb-4b64-9ecd-d3216a3dd199",
   "metadata": {},
   "outputs": [],
   "source": [
    "encoded -= 1\n",
    "n_tokens = text_vec_layer.vocabulary_size()-1\n",
    "dataset_size = len(encoded)"
   ]
  },
  {
   "cell_type": "code",
   "execution_count": 8,
   "id": "83b4c6b3-bd12-4059-9d52-4ee7de69b8c1",
   "metadata": {},
   "outputs": [
    {
     "name": "stdout",
     "output_type": "stream",
     "text": [
      "168\n"
     ]
    }
   ],
   "source": [
    "print(dataset_size)"
   ]
  },
  {
   "cell_type": "code",
   "execution_count": 9,
   "id": "4e97c93e-25a4-4d2b-8b18-ff53f7a39fb6",
   "metadata": {},
   "outputs": [],
   "source": [
    "tokenized_rage = rage.split()"
   ]
  },
  {
   "cell_type": "code",
   "execution_count": 10,
   "id": "824b648d-ef69-4668-ac31-dddd3b2518d8",
   "metadata": {},
   "outputs": [
    {
     "name": "stdout",
     "output_type": "stream",
     "text": [
      "['Do', 'not', 'go', 'gentle', 'into', 'that', 'good', 'night,', 'Old', 'age', 'should', 'burn', 'and', 'rave', 'at', 'close', 'of', 'day;', 'Rage,', 'rage', 'against', 'the', 'dying', 'of', 'the', 'light.', 'Though', 'wise', 'men', 'at', 'their', 'end', 'know', 'dark', 'is', 'right,', 'Because', 'their', 'words', 'had', 'forked', 'no', 'lightning', 'they', 'Do', 'not', 'go', 'gentle', 'into', 'that', 'good', 'night.', 'Good', 'men,', 'the', 'last', 'wave', 'by,', 'crying', 'how', 'bright', 'Their', 'frail', 'deeds', 'might', 'have', 'danced', 'in', 'a', 'green', 'bay,', 'Rage,', 'rage', 'against', 'the', 'dying', 'of', 'the', 'light.', 'Wild', 'men', 'who', 'caught', 'and', 'sang', 'the', 'sun', 'in', 'flight,', 'And', 'learn,', 'too', 'late,', 'they', 'grieve', 'it', 'on', 'its', 'way,', 'Do', 'not', 'go', 'gentle', 'into', 'that', 'good', 'night.', 'Grave', 'men,', 'near', 'death,', 'who', 'see', 'with', 'blinding', 'sight', 'Blind', 'eyes', 'could', 'blaze', 'like', 'meteors', 'and', 'be', 'gay,', 'Rage,', 'rage', 'against', 'the', 'dying', 'of', 'the', 'light.', 'And', 'you,', 'my', 'father,', 'there', 'on', 'the', 'sad', 'height,', 'Curse,', 'bless,', 'me', 'now', 'with', 'your', 'fierce', 'tears,', 'I', 'pray.', 'Do', 'not', 'go', 'gentle', 'into', 'that', 'good', 'night.', 'Rage,', 'rage', 'against', 'the', 'dying', 'of', 'the', 'light.']\n"
     ]
    }
   ],
   "source": [
    "print(tokenized_rage)"
   ]
  },
  {
   "cell_type": "code",
   "execution_count": 11,
   "id": "c413c53b-6ca2-4a9a-a41a-e53b33fd16a7",
   "metadata": {},
   "outputs": [
    {
     "name": "stdout",
     "output_type": "stream",
     "text": [
      "['Do', 'not', 'go', 'gentle', 'good', 'night,', 'Old', 'age', 'should', 'burn', 'rave', 'close', 'day;', 'Rage,', 'rage', 'against', 'dying', 'light.', 'Though', 'wise', 'men', 'their', 'end', 'know', 'dark', 'right,', 'Because', 'their', 'words', 'had', 'forked', 'no', 'lightning', 'they', 'Do', 'not', 'go', 'gentle', 'good', 'night.', 'Good', 'men,', 'last', 'wave', 'by,', 'crying', 'how', 'bright', 'Their', 'frail', 'deeds', 'might', 'have', 'danced', 'green', 'bay,', 'Rage,', 'rage', 'against', 'dying', 'light.', 'Wild', 'men', 'who', 'caught', 'sang', 'sun', 'flight,', 'learn,', 'too', 'late,', 'they', 'grieve', 'its', 'way,', 'Do', 'not', 'go', 'gentle', 'good', 'night.', 'Grave', 'men,', 'near', 'death,', 'who', 'see', 'blinding', 'sight', 'Blind', 'eyes', 'could', 'blaze', 'like', 'meteors', 'be', 'gay,', 'Rage,', 'rage', 'against', 'dying', 'light.', 'you,', 'my', 'father,', 'there', 'sad', 'height,', 'Curse,', 'bless,', 'me', 'now', 'your', 'fierce', 'tears,', 'pray.', 'Do', 'not', 'go', 'gentle', 'good', 'night.', 'Rage,', 'rage', 'against', 'dying', 'light.']\n",
      "127\n"
     ]
    }
   ],
   "source": [
    "final_rage = []\n",
    "delete_words = ['of','and','with','is','was','in','at','a','that','And','the','you','on','I','into','it']\n",
    "\n",
    "for word in tokenized_rage:\n",
    "    if word not in delete_words:\n",
    "        final_rage.append(word)\n",
    "print(final_rage)\n",
    "\n",
    "print(len(final_rage))"
   ]
  },
  {
   "cell_type": "code",
   "execution_count": 20,
   "id": "a25cd866-bd9f-4036-967d-84ae3c8ade01",
   "metadata": {},
   "outputs": [
    {
     "name": "stderr",
     "output_type": "stream",
     "text": [
      "[nltk_data] Downloading package wordnet to\n",
      "[nltk_data]     C:\\Users\\Hp\\AppData\\Roaming\\nltk_data...\n",
      "[nltk_data]   Package wordnet is already up-to-date!\n",
      "[nltk_data] Downloading package omw-1.4 to\n",
      "[nltk_data]     C:\\Users\\Hp\\AppData\\Roaming\\nltk_data...\n"
     ]
    },
    {
     "data": {
      "text/plain": [
       "True"
      ]
     },
     "execution_count": 20,
     "metadata": {},
     "output_type": "execute_result"
    }
   ],
   "source": [
    "import nltk\n",
    "nltk.download('wordnet')\n",
    "from nltk.corpus import wordnet as wn\n",
    "nltk.download('omw-1.4')"
   ]
  },
  {
   "cell_type": "code",
   "execution_count": 21,
   "id": "4a5e7d32",
   "metadata": {},
   "outputs": [
    {
     "data": {
      "text/plain": [
       "[Synset('pacify.v.01'),\n",
       " Synset('ennoble.v.02'),\n",
       " Synset('gentle.v.03'),\n",
       " Synset('gentle.s.01'),\n",
       " Synset('gentle.s.02'),\n",
       " Synset('gentle.s.03'),\n",
       " Synset('aristocratic.s.01'),\n",
       " Synset('docile.s.03'),\n",
       " Synset('easy.s.05'),\n",
       " Synset('easy.s.08')]"
      ]
     },
     "execution_count": 21,
     "metadata": {},
     "output_type": "execute_result"
    }
   ],
   "source": [
    "wn.synsets('gentle')"
   ]
  },
  {
   "cell_type": "code",
   "execution_count": 32,
   "id": "a764b967",
   "metadata": {},
   "outputs": [
    {
     "name": "stdout",
     "output_type": "stream",
     "text": [
      "['docile', 'gentle']\n"
     ]
    }
   ],
   "source": [
    "synset_array = wn.synsets('gentle')\n",
    "print(synset_array[7].lemma_names())"
   ]
  },
  {
   "cell_type": "code",
   "execution_count": 29,
   "id": "854f6f22",
   "metadata": {},
   "outputs": [
    {
     "name": "stdout",
     "output_type": "stream",
     "text": [
      "['aristocratic', 'aristocratical', 'blue', 'blue-blooded', 'gentle', 'patrician']\n"
     ]
    }
   ],
   "source": [
    "print(synset_array[6].lemma_names())"
   ]
  },
  {
   "cell_type": "code",
   "execution_count": 37,
   "id": "af7c4465",
   "metadata": {},
   "outputs": [
    {
     "data": {
      "text/plain": [
       "[Synset('curse.n.01'),\n",
       " Synset('execration.n.02'),\n",
       " Synset('hex.n.01'),\n",
       " Synset('bane.n.01'),\n",
       " Synset('curse.n.05'),\n",
       " Synset('curse.v.01'),\n",
       " Synset('curse.v.02'),\n",
       " Synset('curse.v.03'),\n",
       " Synset('excommunicate.v.01')]"
      ]
     },
     "execution_count": 37,
     "metadata": {},
     "output_type": "execute_result"
    }
   ],
   "source": [
    "wn.synsets('Curse')"
   ]
  },
  {
   "cell_type": "code",
   "execution_count": 40,
   "id": "cbbfba0d",
   "metadata": {},
   "outputs": [
    {
     "data": {
      "text/plain": [
       "[]"
      ]
     },
     "execution_count": 40,
     "metadata": {},
     "output_type": "execute_result"
    }
   ],
   "source": [
    "wn.synset('excommunicate.v.01').entailments()"
   ]
  },
  {
   "cell_type": "code",
   "execution_count": 41,
   "id": "0f8f95f6",
   "metadata": {},
   "outputs": [
    {
     "name": "stdout",
     "output_type": "stream",
     "text": [
      "Collecting NRCLex\n",
      "  Downloading NRCLex-4.0-py3-none-any.whl (4.4 kB)\n",
      "  Downloading NRCLex-3.0.0.tar.gz (396 kB)\n",
      "     -------------------------------------- 396.4/396.4 kB 1.6 MB/s eta 0:00:00\n",
      "  Preparing metadata (setup.py): started\n",
      "  Preparing metadata (setup.py): finished with status 'done'\n",
      "Requirement already satisfied: textblob in c:\\users\\hp\\anaconda3\\lib\\site-packages (from NRCLex) (0.17.1)\n",
      "Requirement already satisfied: nltk>=3.1 in c:\\users\\hp\\anaconda3\\lib\\site-packages (from textblob->NRCLex) (3.7)\n",
      "Requirement already satisfied: regex>=2021.8.3 in c:\\users\\hp\\anaconda3\\lib\\site-packages (from nltk>=3.1->textblob->NRCLex) (2022.7.9)\n",
      "Requirement already satisfied: click in c:\\users\\hp\\anaconda3\\lib\\site-packages (from nltk>=3.1->textblob->NRCLex) (8.1.3)\n",
      "Requirement already satisfied: joblib in c:\\users\\hp\\anaconda3\\lib\\site-packages (from nltk>=3.1->textblob->NRCLex) (1.2.0)\n",
      "Requirement already satisfied: tqdm in c:\\users\\hp\\anaconda3\\lib\\site-packages (from nltk>=3.1->textblob->NRCLex) (4.64.1)\n",
      "Requirement already satisfied: colorama in c:\\users\\hp\\anaconda3\\lib\\site-packages (from click->nltk>=3.1->textblob->NRCLex) (0.4.6)\n",
      "Building wheels for collected packages: NRCLex\n",
      "  Building wheel for NRCLex (setup.py): started\n",
      "  Building wheel for NRCLex (setup.py): finished with status 'done'\n",
      "  Created wheel for NRCLex: filename=NRCLex-3.0.0-py3-none-any.whl size=43319 sha256=29d34500316ca789f6c8ee4cd5294a31ba43294d701b020834993340a01e9c77\n",
      "  Stored in directory: c:\\users\\hp\\appdata\\local\\pip\\cache\\wheels\\03\\f4\\0e\\cd1e76eb9b068ab7ef22fb1468118a49143a56006d2fed333d\n",
      "Successfully built NRCLex\n",
      "Installing collected packages: NRCLex\n",
      "Successfully installed NRCLex-3.0.0\n"
     ]
    },
    {
     "name": "stderr",
     "output_type": "stream",
     "text": [
      "WARNING: Ignoring invalid distribution -cipy (c:\\users\\hp\\anaconda3\\lib\\site-packages)\n",
      "WARNING: Ignoring invalid distribution -cipy (c:\\users\\hp\\anaconda3\\lib\\site-packages)\n",
      "WARNING: Ignoring invalid distribution -cipy (c:\\users\\hp\\anaconda3\\lib\\site-packages)\n",
      "WARNING: Ignoring invalid distribution -cipy (c:\\users\\hp\\anaconda3\\lib\\site-packages)\n",
      "WARNING: Ignoring invalid distribution -cipy (c:\\users\\hp\\anaconda3\\lib\\site-packages)\n",
      "WARNING: Ignoring invalid distribution -cipy (c:\\users\\hp\\anaconda3\\lib\\site-packages)\n",
      "WARNING: Ignoring invalid distribution -cipy (c:\\users\\hp\\anaconda3\\lib\\site-packages)\n"
     ]
    }
   ],
   "source": [
    "!pip install NRCLex"
   ]
  },
  {
   "cell_type": "code",
   "execution_count": 54,
   "id": "fa65890c",
   "metadata": {},
   "outputs": [],
   "source": [
    "from nrclex import NRCLex\n",
    "\n",
    "emotion = NRCLex(rage)"
   ]
  },
  {
   "cell_type": "code",
   "execution_count": 55,
   "id": "82a57a9a",
   "metadata": {},
   "outputs": [
    {
     "name": "stdout",
     "output_type": "stream",
     "text": [
      "[('negative', 0.1568627450980392)]\n"
     ]
    }
   ],
   "source": [
    "print(emotion.top_emotions)"
   ]
  },
  {
   "cell_type": "code",
   "execution_count": 62,
   "id": "e4e7494c",
   "metadata": {},
   "outputs": [
    {
     "name": "stdout",
     "output_type": "stream",
     "text": [
      "{'anticipation': 8, 'joy': 9, 'positive': 11, 'surprise': 9, 'trust': 10, 'anger': 14, 'disgust': 7, 'negative': 16, 'fear': 9, 'sadness': 9}\n"
     ]
    }
   ],
   "source": [
    "x = emotion.raw_emotion_scores\n",
    "print(x)"
   ]
  },
  {
   "cell_type": "code",
   "execution_count": 72,
   "id": "c11a41cd",
   "metadata": {},
   "outputs": [
    {
     "name": "stdout",
     "output_type": "stream",
     "text": [
      "{'fear': 0.08823529411764706, 'anger': 0.13725490196078433, 'anticip': 0.0, 'trust': 0.09803921568627451, 'surprise': 0.08823529411764706, 'positive': 0.10784313725490197, 'negative': 0.1568627450980392, 'sadness': 0.08823529411764706, 'disgust': 0.06862745098039216, 'joy': 0.08823529411764706, 'anticipation': 0.0784313725490196}\n"
     ]
    }
   ],
   "source": [
    "y = emotion.affect_frequencies\n",
    "print(y)"
   ]
  },
  {
   "cell_type": "code",
   "execution_count": 78,
   "id": "ff80d4da",
   "metadata": {},
   "outputs": [
    {
     "name": "stdout",
     "output_type": "stream",
     "text": [
      "{}\n",
      "{}\n",
      "{}\n",
      "{}\n",
      "{'anticipation': 1, 'joy': 1, 'positive': 1, 'surprise': 1, 'trust': 1}\n",
      "{}\n",
      "{}\n",
      "{}\n",
      "{}\n",
      "{}\n",
      "{'anger': 1, 'disgust': 1, 'joy': 1, 'negative': 1, 'positive': 1, 'surprise': 1, 'trust': 1}\n",
      "{}\n",
      "{}\n",
      "{}\n",
      "{'anger': 1, 'negative': 1}\n",
      "{}\n",
      "{'anger': 1, 'disgust': 1, 'fear': 1, 'negative': 1, 'sadness': 1}\n",
      "{}\n",
      "{}\n",
      "{'positive': 1}\n",
      "{}\n",
      "{}\n",
      "{}\n",
      "{}\n",
      "{'sadness': 1}\n",
      "{}\n",
      "{}\n",
      "{}\n",
      "{'anger': 1, 'negative': 1}\n",
      "{}\n",
      "{}\n",
      "{}\n",
      "{'anger': 1, 'fear': 1, 'surprise': 1}\n",
      "{}\n",
      "{}\n",
      "{}\n",
      "{}\n",
      "{}\n",
      "{'anticipation': 1, 'joy': 1, 'positive': 1, 'surprise': 1, 'trust': 1}\n",
      "{}\n",
      "{}\n",
      "{}\n",
      "{}\n",
      "{}\n",
      "{}\n",
      "{'negative': 1, 'sadness': 1}\n",
      "{}\n",
      "{}\n",
      "{}\n",
      "{}\n",
      "{}\n",
      "{}\n",
      "{}\n",
      "{}\n",
      "{'joy': 1, 'positive': 1, 'trust': 1}\n",
      "{}\n",
      "{}\n",
      "{'anger': 1, 'negative': 1}\n",
      "{}\n",
      "{'anger': 1, 'disgust': 1, 'fear': 1, 'negative': 1, 'sadness': 1}\n",
      "{}\n",
      "{}\n",
      "{}\n",
      "{}\n",
      "{}\n",
      "{}\n",
      "{'anticipation': 1, 'joy': 1, 'positive': 1, 'surprise': 1, 'trust': 1}\n",
      "{}\n",
      "{'positive': 1}\n",
      "{}\n",
      "{'negative': 1, 'sadness': 1}\n",
      "{}\n",
      "{'fear': 1, 'negative': 1, 'sadness': 1}\n",
      "{}\n",
      "{}\n",
      "{}\n",
      "{}\n",
      "{}\n",
      "{}\n",
      "{'anticipation': 1, 'joy': 1, 'positive': 1, 'surprise': 1, 'trust': 1}\n",
      "{}\n",
      "{}\n",
      "{}\n",
      "{}\n",
      "{'anger': 1, 'anticipation': 1, 'disgust': 1, 'fear': 1, 'negative': 1, 'sadness': 1, 'surprise': 1}\n",
      "{}\n",
      "{}\n",
      "{}\n",
      "{}\n",
      "{}\n",
      "{}\n",
      "{}\n",
      "{'anger': 1, 'negative': 1}\n",
      "{}\n",
      "{}\n",
      "{}\n",
      "{}\n",
      "{}\n",
      "{'anger': 1, 'negative': 1}\n",
      "{}\n",
      "{'anger': 1, 'disgust': 1, 'fear': 1, 'negative': 1, 'sadness': 1}\n",
      "{}\n",
      "{}\n",
      "{}\n",
      "{'trust': 1}\n",
      "{}\n",
      "{}\n",
      "{}\n",
      "{}\n",
      "{'anticipation': 1, 'joy': 1, 'positive': 1, 'trust': 1}\n",
      "{}\n",
      "{}\n",
      "{}\n",
      "{'anger': 1, 'disgust': 1, 'fear': 1, 'negative': 1}\n",
      "{}\n",
      "{'anticipation': 1, 'fear': 1, 'joy': 1, 'positive': 1, 'surprise': 1, 'trust': 1}\n",
      "{}\n",
      "{}\n",
      "{}\n",
      "{}\n",
      "{'anticipation': 1, 'joy': 1, 'positive': 1, 'surprise': 1, 'trust': 1}\n",
      "{}\n",
      "{}\n",
      "{'anger': 1, 'negative': 1}\n",
      "{}\n",
      "{'anger': 1, 'disgust': 1, 'fear': 1, 'negative': 1, 'sadness': 1}\n",
      "{}\n"
     ]
    }
   ],
   "source": [
    "for i in range(len(final_rage)):\n",
    "    emotion = NRCLex(final_rage[i])\n",
    "    print(emotion.raw_emotion_scores)\n",
    "    "
   ]
  },
  {
   "cell_type": "code",
   "execution_count": 94,
   "id": "69fd34f7",
   "metadata": {},
   "outputs": [
    {
     "name": "stdout",
     "output_type": "stream",
     "text": [
      "{'fear': 0.0, 'anger': 0.0, 'anticip': 0.0, 'trust': 0.0, 'surprise': 0.0, 'positive': 0.0, 'negative': 0.0, 'sadness': 0.0, 'disgust': 0.0, 'joy': 0.0}\n",
      "{'fear': 0.0, 'anger': 0.0, 'anticip': 0.0, 'trust': 0.0, 'surprise': 0.0, 'positive': 0.0, 'negative': 0.0, 'sadness': 0.0, 'disgust': 0.0, 'joy': 0.0}\n",
      "{'fear': 0.0, 'anger': 0.0, 'anticip': 0.0, 'trust': 0.0, 'surprise': 0.0, 'positive': 0.0, 'negative': 0.0, 'sadness': 0.0, 'disgust': 0.0, 'joy': 0.0}\n",
      "{'fear': 0.0, 'anger': 0.0, 'anticip': 0.0, 'trust': 0.0, 'surprise': 0.0, 'positive': 0.0, 'negative': 0.0, 'sadness': 0.0, 'disgust': 0.0, 'joy': 0.0}\n",
      "{'fear': 0.0, 'anger': 0.0, 'anticip': 0.0, 'trust': 0.2, 'surprise': 0.2, 'positive': 0.2, 'negative': 0.0, 'sadness': 0.0, 'disgust': 0.0, 'joy': 0.2, 'anticipation': 0.2}\n",
      "{'fear': 0.0, 'anger': 0.0, 'anticip': 0.0, 'trust': 0.0, 'surprise': 0.0, 'positive': 0.0, 'negative': 0.0, 'sadness': 0.0, 'disgust': 0.0, 'joy': 0.0}\n",
      "{'fear': 0.0, 'anger': 0.0, 'anticip': 0.0, 'trust': 0.0, 'surprise': 0.0, 'positive': 0.0, 'negative': 0.0, 'sadness': 0.0, 'disgust': 0.0, 'joy': 0.0}\n",
      "{'fear': 0.0, 'anger': 0.0, 'anticip': 0.0, 'trust': 0.0, 'surprise': 0.0, 'positive': 0.0, 'negative': 0.0, 'sadness': 0.0, 'disgust': 0.0, 'joy': 0.0}\n",
      "{'fear': 0.0, 'anger': 0.0, 'anticip': 0.0, 'trust': 0.0, 'surprise': 0.0, 'positive': 0.0, 'negative': 0.0, 'sadness': 0.0, 'disgust': 0.0, 'joy': 0.0}\n",
      "{'fear': 0.0, 'anger': 0.0, 'anticip': 0.0, 'trust': 0.0, 'surprise': 0.0, 'positive': 0.0, 'negative': 0.0, 'sadness': 0.0, 'disgust': 0.0, 'joy': 0.0}\n",
      "{'fear': 0.0, 'anger': 0.14285714285714285, 'anticip': 0.0, 'trust': 0.14285714285714285, 'surprise': 0.14285714285714285, 'positive': 0.14285714285714285, 'negative': 0.14285714285714285, 'sadness': 0.0, 'disgust': 0.14285714285714285, 'joy': 0.14285714285714285}\n",
      "{'fear': 0.0, 'anger': 0.0, 'anticip': 0.0, 'trust': 0.0, 'surprise': 0.0, 'positive': 0.0, 'negative': 0.0, 'sadness': 0.0, 'disgust': 0.0, 'joy': 0.0}\n",
      "{'fear': 0.0, 'anger': 0.0, 'anticip': 0.0, 'trust': 0.0, 'surprise': 0.0, 'positive': 0.0, 'negative': 0.0, 'sadness': 0.0, 'disgust': 0.0, 'joy': 0.0}\n",
      "{'fear': 0.0, 'anger': 0.0, 'anticip': 0.0, 'trust': 0.0, 'surprise': 0.0, 'positive': 0.0, 'negative': 0.0, 'sadness': 0.0, 'disgust': 0.0, 'joy': 0.0}\n",
      "{'fear': 0.0, 'anger': 0.5, 'anticip': 0.0, 'trust': 0.0, 'surprise': 0.0, 'positive': 0.0, 'negative': 0.5, 'sadness': 0.0, 'disgust': 0.0, 'joy': 0.0}\n",
      "{'fear': 0.0, 'anger': 0.0, 'anticip': 0.0, 'trust': 0.0, 'surprise': 0.0, 'positive': 0.0, 'negative': 0.0, 'sadness': 0.0, 'disgust': 0.0, 'joy': 0.0}\n",
      "{'fear': 0.2, 'anger': 0.2, 'anticip': 0.0, 'trust': 0.0, 'surprise': 0.0, 'positive': 0.0, 'negative': 0.2, 'sadness': 0.2, 'disgust': 0.2, 'joy': 0.0}\n",
      "{'fear': 0.0, 'anger': 0.0, 'anticip': 0.0, 'trust': 0.0, 'surprise': 0.0, 'positive': 0.0, 'negative': 0.0, 'sadness': 0.0, 'disgust': 0.0, 'joy': 0.0}\n",
      "{'fear': 0.0, 'anger': 0.0, 'anticip': 0.0, 'trust': 0.0, 'surprise': 0.0, 'positive': 0.0, 'negative': 0.0, 'sadness': 0.0, 'disgust': 0.0, 'joy': 0.0}\n",
      "{'fear': 0.0, 'anger': 0.0, 'anticip': 0.0, 'trust': 0.0, 'surprise': 0.0, 'positive': 1.0, 'negative': 0.0, 'sadness': 0.0, 'disgust': 0.0, 'joy': 0.0}\n",
      "{'fear': 0.0, 'anger': 0.0, 'anticip': 0.0, 'trust': 0.0, 'surprise': 0.0, 'positive': 0.0, 'negative': 0.0, 'sadness': 0.0, 'disgust': 0.0, 'joy': 0.0}\n",
      "{'fear': 0.0, 'anger': 0.0, 'anticip': 0.0, 'trust': 0.0, 'surprise': 0.0, 'positive': 0.0, 'negative': 0.0, 'sadness': 0.0, 'disgust': 0.0, 'joy': 0.0}\n",
      "{'fear': 0.0, 'anger': 0.0, 'anticip': 0.0, 'trust': 0.0, 'surprise': 0.0, 'positive': 0.0, 'negative': 0.0, 'sadness': 0.0, 'disgust': 0.0, 'joy': 0.0}\n",
      "{'fear': 0.0, 'anger': 0.0, 'anticip': 0.0, 'trust': 0.0, 'surprise': 0.0, 'positive': 0.0, 'negative': 0.0, 'sadness': 0.0, 'disgust': 0.0, 'joy': 0.0}\n",
      "{'fear': 0.0, 'anger': 0.0, 'anticip': 0.0, 'trust': 0.0, 'surprise': 0.0, 'positive': 0.0, 'negative': 0.0, 'sadness': 1.0, 'disgust': 0.0, 'joy': 0.0}\n",
      "{'fear': 0.0, 'anger': 0.0, 'anticip': 0.0, 'trust': 0.0, 'surprise': 0.0, 'positive': 0.0, 'negative': 0.0, 'sadness': 0.0, 'disgust': 0.0, 'joy': 0.0}\n",
      "{'fear': 0.0, 'anger': 0.0, 'anticip': 0.0, 'trust': 0.0, 'surprise': 0.0, 'positive': 0.0, 'negative': 0.0, 'sadness': 0.0, 'disgust': 0.0, 'joy': 0.0}\n",
      "{'fear': 0.0, 'anger': 0.0, 'anticip': 0.0, 'trust': 0.0, 'surprise': 0.0, 'positive': 0.0, 'negative': 0.0, 'sadness': 0.0, 'disgust': 0.0, 'joy': 0.0}\n",
      "{'fear': 0.0, 'anger': 0.5, 'anticip': 0.0, 'trust': 0.0, 'surprise': 0.0, 'positive': 0.0, 'negative': 0.5, 'sadness': 0.0, 'disgust': 0.0, 'joy': 0.0}\n",
      "{'fear': 0.0, 'anger': 0.0, 'anticip': 0.0, 'trust': 0.0, 'surprise': 0.0, 'positive': 0.0, 'negative': 0.0, 'sadness': 0.0, 'disgust': 0.0, 'joy': 0.0}\n",
      "{'fear': 0.0, 'anger': 0.0, 'anticip': 0.0, 'trust': 0.0, 'surprise': 0.0, 'positive': 0.0, 'negative': 0.0, 'sadness': 0.0, 'disgust': 0.0, 'joy': 0.0}\n",
      "{'fear': 0.0, 'anger': 0.0, 'anticip': 0.0, 'trust': 0.0, 'surprise': 0.0, 'positive': 0.0, 'negative': 0.0, 'sadness': 0.0, 'disgust': 0.0, 'joy': 0.0}\n",
      "{'fear': 0.3333333333333333, 'anger': 0.3333333333333333, 'anticip': 0.0, 'trust': 0.0, 'surprise': 0.3333333333333333, 'positive': 0.0, 'negative': 0.0, 'sadness': 0.0, 'disgust': 0.0, 'joy': 0.0}\n",
      "{'fear': 0.0, 'anger': 0.0, 'anticip': 0.0, 'trust': 0.0, 'surprise': 0.0, 'positive': 0.0, 'negative': 0.0, 'sadness': 0.0, 'disgust': 0.0, 'joy': 0.0}\n",
      "{'fear': 0.0, 'anger': 0.0, 'anticip': 0.0, 'trust': 0.0, 'surprise': 0.0, 'positive': 0.0, 'negative': 0.0, 'sadness': 0.0, 'disgust': 0.0, 'joy': 0.0}\n",
      "{'fear': 0.0, 'anger': 0.0, 'anticip': 0.0, 'trust': 0.0, 'surprise': 0.0, 'positive': 0.0, 'negative': 0.0, 'sadness': 0.0, 'disgust': 0.0, 'joy': 0.0}\n",
      "{'fear': 0.0, 'anger': 0.0, 'anticip': 0.0, 'trust': 0.0, 'surprise': 0.0, 'positive': 0.0, 'negative': 0.0, 'sadness': 0.0, 'disgust': 0.0, 'joy': 0.0}\n",
      "{'fear': 0.0, 'anger': 0.0, 'anticip': 0.0, 'trust': 0.0, 'surprise': 0.0, 'positive': 0.0, 'negative': 0.0, 'sadness': 0.0, 'disgust': 0.0, 'joy': 0.0}\n",
      "{'fear': 0.0, 'anger': 0.0, 'anticip': 0.0, 'trust': 0.2, 'surprise': 0.2, 'positive': 0.2, 'negative': 0.0, 'sadness': 0.0, 'disgust': 0.0, 'joy': 0.2, 'anticipation': 0.2}\n",
      "{'fear': 0.0, 'anger': 0.0, 'anticip': 0.0, 'trust': 0.0, 'surprise': 0.0, 'positive': 0.0, 'negative': 0.0, 'sadness': 0.0, 'disgust': 0.0, 'joy': 0.0}\n",
      "{'fear': 0.0, 'anger': 0.0, 'anticip': 0.0, 'trust': 0.0, 'surprise': 0.0, 'positive': 0.0, 'negative': 0.0, 'sadness': 0.0, 'disgust': 0.0, 'joy': 0.0}\n",
      "{'fear': 0.0, 'anger': 0.0, 'anticip': 0.0, 'trust': 0.0, 'surprise': 0.0, 'positive': 0.0, 'negative': 0.0, 'sadness': 0.0, 'disgust': 0.0, 'joy': 0.0}\n",
      "{'fear': 0.0, 'anger': 0.0, 'anticip': 0.0, 'trust': 0.0, 'surprise': 0.0, 'positive': 0.0, 'negative': 0.0, 'sadness': 0.0, 'disgust': 0.0, 'joy': 0.0}\n",
      "{'fear': 0.0, 'anger': 0.0, 'anticip': 0.0, 'trust': 0.0, 'surprise': 0.0, 'positive': 0.0, 'negative': 0.0, 'sadness': 0.0, 'disgust': 0.0, 'joy': 0.0}\n",
      "{'fear': 0.0, 'anger': 0.0, 'anticip': 0.0, 'trust': 0.0, 'surprise': 0.0, 'positive': 0.0, 'negative': 0.0, 'sadness': 0.0, 'disgust': 0.0, 'joy': 0.0}\n",
      "{'fear': 0.0, 'anger': 0.0, 'anticip': 0.0, 'trust': 0.0, 'surprise': 0.0, 'positive': 0.0, 'negative': 0.5, 'sadness': 0.5, 'disgust': 0.0, 'joy': 0.0}\n",
      "{'fear': 0.0, 'anger': 0.0, 'anticip': 0.0, 'trust': 0.0, 'surprise': 0.0, 'positive': 0.0, 'negative': 0.0, 'sadness': 0.0, 'disgust': 0.0, 'joy': 0.0}\n",
      "{'fear': 0.0, 'anger': 0.0, 'anticip': 0.0, 'trust': 0.0, 'surprise': 0.0, 'positive': 0.0, 'negative': 0.0, 'sadness': 0.0, 'disgust': 0.0, 'joy': 0.0}\n",
      "{'fear': 0.0, 'anger': 0.0, 'anticip': 0.0, 'trust': 0.0, 'surprise': 0.0, 'positive': 0.0, 'negative': 0.0, 'sadness': 0.0, 'disgust': 0.0, 'joy': 0.0}\n",
      "{'fear': 0.0, 'anger': 0.0, 'anticip': 0.0, 'trust': 0.0, 'surprise': 0.0, 'positive': 0.0, 'negative': 0.0, 'sadness': 0.0, 'disgust': 0.0, 'joy': 0.0}\n",
      "{'fear': 0.0, 'anger': 0.0, 'anticip': 0.0, 'trust': 0.0, 'surprise': 0.0, 'positive': 0.0, 'negative': 0.0, 'sadness': 0.0, 'disgust': 0.0, 'joy': 0.0}\n",
      "{'fear': 0.0, 'anger': 0.0, 'anticip': 0.0, 'trust': 0.0, 'surprise': 0.0, 'positive': 0.0, 'negative': 0.0, 'sadness': 0.0, 'disgust': 0.0, 'joy': 0.0}\n",
      "{'fear': 0.0, 'anger': 0.0, 'anticip': 0.0, 'trust': 0.0, 'surprise': 0.0, 'positive': 0.0, 'negative': 0.0, 'sadness': 0.0, 'disgust': 0.0, 'joy': 0.0}\n",
      "{'fear': 0.0, 'anger': 0.0, 'anticip': 0.0, 'trust': 0.0, 'surprise': 0.0, 'positive': 0.0, 'negative': 0.0, 'sadness': 0.0, 'disgust': 0.0, 'joy': 0.0}\n",
      "{'fear': 0.0, 'anger': 0.0, 'anticip': 0.0, 'trust': 0.3333333333333333, 'surprise': 0.0, 'positive': 0.3333333333333333, 'negative': 0.0, 'sadness': 0.0, 'disgust': 0.0, 'joy': 0.3333333333333333}\n",
      "{'fear': 0.0, 'anger': 0.0, 'anticip': 0.0, 'trust': 0.0, 'surprise': 0.0, 'positive': 0.0, 'negative': 0.0, 'sadness': 0.0, 'disgust': 0.0, 'joy': 0.0}\n",
      "{'fear': 0.0, 'anger': 0.0, 'anticip': 0.0, 'trust': 0.0, 'surprise': 0.0, 'positive': 0.0, 'negative': 0.0, 'sadness': 0.0, 'disgust': 0.0, 'joy': 0.0}\n",
      "{'fear': 0.0, 'anger': 0.5, 'anticip': 0.0, 'trust': 0.0, 'surprise': 0.0, 'positive': 0.0, 'negative': 0.5, 'sadness': 0.0, 'disgust': 0.0, 'joy': 0.0}\n",
      "{'fear': 0.0, 'anger': 0.0, 'anticip': 0.0, 'trust': 0.0, 'surprise': 0.0, 'positive': 0.0, 'negative': 0.0, 'sadness': 0.0, 'disgust': 0.0, 'joy': 0.0}\n",
      "{'fear': 0.2, 'anger': 0.2, 'anticip': 0.0, 'trust': 0.0, 'surprise': 0.0, 'positive': 0.0, 'negative': 0.2, 'sadness': 0.2, 'disgust': 0.2, 'joy': 0.0}\n",
      "{'fear': 0.0, 'anger': 0.0, 'anticip': 0.0, 'trust': 0.0, 'surprise': 0.0, 'positive': 0.0, 'negative': 0.0, 'sadness': 0.0, 'disgust': 0.0, 'joy': 0.0}\n",
      "{'fear': 0.0, 'anger': 0.0, 'anticip': 0.0, 'trust': 0.0, 'surprise': 0.0, 'positive': 0.0, 'negative': 0.0, 'sadness': 0.0, 'disgust': 0.0, 'joy': 0.0}\n",
      "{'fear': 0.0, 'anger': 0.0, 'anticip': 0.0, 'trust': 0.0, 'surprise': 0.0, 'positive': 0.0, 'negative': 0.0, 'sadness': 0.0, 'disgust': 0.0, 'joy': 0.0}\n",
      "{'fear': 0.0, 'anger': 0.0, 'anticip': 0.0, 'trust': 0.0, 'surprise': 0.0, 'positive': 0.0, 'negative': 0.0, 'sadness': 0.0, 'disgust': 0.0, 'joy': 0.0}\n",
      "{'fear': 0.0, 'anger': 0.0, 'anticip': 0.0, 'trust': 0.0, 'surprise': 0.0, 'positive': 0.0, 'negative': 0.0, 'sadness': 0.0, 'disgust': 0.0, 'joy': 0.0}\n",
      "{'fear': 0.0, 'anger': 0.0, 'anticip': 0.0, 'trust': 0.0, 'surprise': 0.0, 'positive': 0.0, 'negative': 0.0, 'sadness': 0.0, 'disgust': 0.0, 'joy': 0.0}\n",
      "{'fear': 0.0, 'anger': 0.0, 'anticip': 0.0, 'trust': 0.2, 'surprise': 0.2, 'positive': 0.2, 'negative': 0.0, 'sadness': 0.0, 'disgust': 0.0, 'joy': 0.2, 'anticipation': 0.2}\n",
      "{'fear': 0.0, 'anger': 0.0, 'anticip': 0.0, 'trust': 0.0, 'surprise': 0.0, 'positive': 0.0, 'negative': 0.0, 'sadness': 0.0, 'disgust': 0.0, 'joy': 0.0}\n",
      "{'fear': 0.0, 'anger': 0.0, 'anticip': 0.0, 'trust': 0.0, 'surprise': 0.0, 'positive': 1.0, 'negative': 0.0, 'sadness': 0.0, 'disgust': 0.0, 'joy': 0.0}\n",
      "{'fear': 0.0, 'anger': 0.0, 'anticip': 0.0, 'trust': 0.0, 'surprise': 0.0, 'positive': 0.0, 'negative': 0.0, 'sadness': 0.0, 'disgust': 0.0, 'joy': 0.0}\n",
      "{'fear': 0.0, 'anger': 0.0, 'anticip': 0.0, 'trust': 0.0, 'surprise': 0.0, 'positive': 0.0, 'negative': 0.5, 'sadness': 0.5, 'disgust': 0.0, 'joy': 0.0}\n",
      "{'fear': 0.0, 'anger': 0.0, 'anticip': 0.0, 'trust': 0.0, 'surprise': 0.0, 'positive': 0.0, 'negative': 0.0, 'sadness': 0.0, 'disgust': 0.0, 'joy': 0.0}\n",
      "{'fear': 0.3333333333333333, 'anger': 0.0, 'anticip': 0.0, 'trust': 0.0, 'surprise': 0.0, 'positive': 0.0, 'negative': 0.3333333333333333, 'sadness': 0.3333333333333333, 'disgust': 0.0, 'joy': 0.0}\n",
      "{'fear': 0.0, 'anger': 0.0, 'anticip': 0.0, 'trust': 0.0, 'surprise': 0.0, 'positive': 0.0, 'negative': 0.0, 'sadness': 0.0, 'disgust': 0.0, 'joy': 0.0}\n",
      "{'fear': 0.0, 'anger': 0.0, 'anticip': 0.0, 'trust': 0.0, 'surprise': 0.0, 'positive': 0.0, 'negative': 0.0, 'sadness': 0.0, 'disgust': 0.0, 'joy': 0.0}\n",
      "{'fear': 0.0, 'anger': 0.0, 'anticip': 0.0, 'trust': 0.0, 'surprise': 0.0, 'positive': 0.0, 'negative': 0.0, 'sadness': 0.0, 'disgust': 0.0, 'joy': 0.0}\n",
      "{'fear': 0.0, 'anger': 0.0, 'anticip': 0.0, 'trust': 0.0, 'surprise': 0.0, 'positive': 0.0, 'negative': 0.0, 'sadness': 0.0, 'disgust': 0.0, 'joy': 0.0}\n",
      "{'fear': 0.0, 'anger': 0.0, 'anticip': 0.0, 'trust': 0.0, 'surprise': 0.0, 'positive': 0.0, 'negative': 0.0, 'sadness': 0.0, 'disgust': 0.0, 'joy': 0.0}\n",
      "{'fear': 0.0, 'anger': 0.0, 'anticip': 0.0, 'trust': 0.0, 'surprise': 0.0, 'positive': 0.0, 'negative': 0.0, 'sadness': 0.0, 'disgust': 0.0, 'joy': 0.0}\n",
      "{'fear': 0.0, 'anger': 0.0, 'anticip': 0.0, 'trust': 0.2, 'surprise': 0.2, 'positive': 0.2, 'negative': 0.0, 'sadness': 0.0, 'disgust': 0.0, 'joy': 0.2, 'anticipation': 0.2}\n",
      "{'fear': 0.0, 'anger': 0.0, 'anticip': 0.0, 'trust': 0.0, 'surprise': 0.0, 'positive': 0.0, 'negative': 0.0, 'sadness': 0.0, 'disgust': 0.0, 'joy': 0.0}\n",
      "{'fear': 0.0, 'anger': 0.0, 'anticip': 0.0, 'trust': 0.0, 'surprise': 0.0, 'positive': 0.0, 'negative': 0.0, 'sadness': 0.0, 'disgust': 0.0, 'joy': 0.0}\n",
      "{'fear': 0.0, 'anger': 0.0, 'anticip': 0.0, 'trust': 0.0, 'surprise': 0.0, 'positive': 0.0, 'negative': 0.0, 'sadness': 0.0, 'disgust': 0.0, 'joy': 0.0}\n",
      "{'fear': 0.0, 'anger': 0.0, 'anticip': 0.0, 'trust': 0.0, 'surprise': 0.0, 'positive': 0.0, 'negative': 0.0, 'sadness': 0.0, 'disgust': 0.0, 'joy': 0.0}\n",
      "{'fear': 0.14285714285714285, 'anger': 0.14285714285714285, 'anticip': 0.0, 'trust': 0.0, 'surprise': 0.14285714285714285, 'positive': 0.0, 'negative': 0.14285714285714285, 'sadness': 0.14285714285714285, 'disgust': 0.14285714285714285, 'joy': 0.0, 'anticipation': 0.14285714285714285}\n",
      "{'fear': 0.0, 'anger': 0.0, 'anticip': 0.0, 'trust': 0.0, 'surprise': 0.0, 'positive': 0.0, 'negative': 0.0, 'sadness': 0.0, 'disgust': 0.0, 'joy': 0.0}\n",
      "{'fear': 0.0, 'anger': 0.0, 'anticip': 0.0, 'trust': 0.0, 'surprise': 0.0, 'positive': 0.0, 'negative': 0.0, 'sadness': 0.0, 'disgust': 0.0, 'joy': 0.0}\n",
      "{'fear': 0.0, 'anger': 0.0, 'anticip': 0.0, 'trust': 0.0, 'surprise': 0.0, 'positive': 0.0, 'negative': 0.0, 'sadness': 0.0, 'disgust': 0.0, 'joy': 0.0}\n",
      "{'fear': 0.0, 'anger': 0.0, 'anticip': 0.0, 'trust': 0.0, 'surprise': 0.0, 'positive': 0.0, 'negative': 0.0, 'sadness': 0.0, 'disgust': 0.0, 'joy': 0.0}\n",
      "{'fear': 0.0, 'anger': 0.0, 'anticip': 0.0, 'trust': 0.0, 'surprise': 0.0, 'positive': 0.0, 'negative': 0.0, 'sadness': 0.0, 'disgust': 0.0, 'joy': 0.0}\n",
      "{'fear': 0.0, 'anger': 0.0, 'anticip': 0.0, 'trust': 0.0, 'surprise': 0.0, 'positive': 0.0, 'negative': 0.0, 'sadness': 0.0, 'disgust': 0.0, 'joy': 0.0}\n",
      "{'fear': 0.0, 'anger': 0.0, 'anticip': 0.0, 'trust': 0.0, 'surprise': 0.0, 'positive': 0.0, 'negative': 0.0, 'sadness': 0.0, 'disgust': 0.0, 'joy': 0.0}\n",
      "{'fear': 0.0, 'anger': 0.5, 'anticip': 0.0, 'trust': 0.0, 'surprise': 0.0, 'positive': 0.0, 'negative': 0.5, 'sadness': 0.0, 'disgust': 0.0, 'joy': 0.0}\n",
      "{'fear': 0.0, 'anger': 0.0, 'anticip': 0.0, 'trust': 0.0, 'surprise': 0.0, 'positive': 0.0, 'negative': 0.0, 'sadness': 0.0, 'disgust': 0.0, 'joy': 0.0}\n",
      "{'fear': 0.0, 'anger': 0.0, 'anticip': 0.0, 'trust': 0.0, 'surprise': 0.0, 'positive': 0.0, 'negative': 0.0, 'sadness': 0.0, 'disgust': 0.0, 'joy': 0.0}\n",
      "{'fear': 0.0, 'anger': 0.0, 'anticip': 0.0, 'trust': 0.0, 'surprise': 0.0, 'positive': 0.0, 'negative': 0.0, 'sadness': 0.0, 'disgust': 0.0, 'joy': 0.0}\n",
      "{'fear': 0.0, 'anger': 0.0, 'anticip': 0.0, 'trust': 0.0, 'surprise': 0.0, 'positive': 0.0, 'negative': 0.0, 'sadness': 0.0, 'disgust': 0.0, 'joy': 0.0}\n",
      "{'fear': 0.0, 'anger': 0.0, 'anticip': 0.0, 'trust': 0.0, 'surprise': 0.0, 'positive': 0.0, 'negative': 0.0, 'sadness': 0.0, 'disgust': 0.0, 'joy': 0.0}\n",
      "{'fear': 0.0, 'anger': 0.5, 'anticip': 0.0, 'trust': 0.0, 'surprise': 0.0, 'positive': 0.0, 'negative': 0.5, 'sadness': 0.0, 'disgust': 0.0, 'joy': 0.0}\n",
      "{'fear': 0.0, 'anger': 0.0, 'anticip': 0.0, 'trust': 0.0, 'surprise': 0.0, 'positive': 0.0, 'negative': 0.0, 'sadness': 0.0, 'disgust': 0.0, 'joy': 0.0}\n",
      "{'fear': 0.2, 'anger': 0.2, 'anticip': 0.0, 'trust': 0.0, 'surprise': 0.0, 'positive': 0.0, 'negative': 0.2, 'sadness': 0.2, 'disgust': 0.2, 'joy': 0.0}\n",
      "{'fear': 0.0, 'anger': 0.0, 'anticip': 0.0, 'trust': 0.0, 'surprise': 0.0, 'positive': 0.0, 'negative': 0.0, 'sadness': 0.0, 'disgust': 0.0, 'joy': 0.0}\n",
      "{'fear': 0.0, 'anger': 0.0, 'anticip': 0.0, 'trust': 0.0, 'surprise': 0.0, 'positive': 0.0, 'negative': 0.0, 'sadness': 0.0, 'disgust': 0.0, 'joy': 0.0}\n",
      "{'fear': 0.0, 'anger': 0.0, 'anticip': 0.0, 'trust': 0.0, 'surprise': 0.0, 'positive': 0.0, 'negative': 0.0, 'sadness': 0.0, 'disgust': 0.0, 'joy': 0.0}\n",
      "{'fear': 0.0, 'anger': 0.0, 'anticip': 0.0, 'trust': 1.0, 'surprise': 0.0, 'positive': 0.0, 'negative': 0.0, 'sadness': 0.0, 'disgust': 0.0, 'joy': 0.0}\n",
      "{'fear': 0.0, 'anger': 0.0, 'anticip': 0.0, 'trust': 0.0, 'surprise': 0.0, 'positive': 0.0, 'negative': 0.0, 'sadness': 0.0, 'disgust': 0.0, 'joy': 0.0}\n",
      "{'fear': 0.0, 'anger': 0.0, 'anticip': 0.0, 'trust': 0.0, 'surprise': 0.0, 'positive': 0.0, 'negative': 0.0, 'sadness': 0.0, 'disgust': 0.0, 'joy': 0.0}\n",
      "{'fear': 0.0, 'anger': 0.0, 'anticip': 0.0, 'trust': 0.0, 'surprise': 0.0, 'positive': 0.0, 'negative': 0.0, 'sadness': 0.0, 'disgust': 0.0, 'joy': 0.0}\n",
      "{'fear': 0.0, 'anger': 0.0, 'anticip': 0.0, 'trust': 0.0, 'surprise': 0.0, 'positive': 0.0, 'negative': 0.0, 'sadness': 0.0, 'disgust': 0.0, 'joy': 0.0}\n",
      "{'fear': 0.0, 'anger': 0.0, 'anticip': 0.0, 'trust': 0.25, 'surprise': 0.0, 'positive': 0.25, 'negative': 0.0, 'sadness': 0.0, 'disgust': 0.0, 'joy': 0.25, 'anticipation': 0.25}\n",
      "{'fear': 0.0, 'anger': 0.0, 'anticip': 0.0, 'trust': 0.0, 'surprise': 0.0, 'positive': 0.0, 'negative': 0.0, 'sadness': 0.0, 'disgust': 0.0, 'joy': 0.0}\n",
      "{'fear': 0.0, 'anger': 0.0, 'anticip': 0.0, 'trust': 0.0, 'surprise': 0.0, 'positive': 0.0, 'negative': 0.0, 'sadness': 0.0, 'disgust': 0.0, 'joy': 0.0}\n",
      "{'fear': 0.0, 'anger': 0.0, 'anticip': 0.0, 'trust': 0.0, 'surprise': 0.0, 'positive': 0.0, 'negative': 0.0, 'sadness': 0.0, 'disgust': 0.0, 'joy': 0.0}\n",
      "{'fear': 0.25, 'anger': 0.25, 'anticip': 0.0, 'trust': 0.0, 'surprise': 0.0, 'positive': 0.0, 'negative': 0.25, 'sadness': 0.0, 'disgust': 0.25, 'joy': 0.0}\n",
      "{'fear': 0.0, 'anger': 0.0, 'anticip': 0.0, 'trust': 0.0, 'surprise': 0.0, 'positive': 0.0, 'negative': 0.0, 'sadness': 0.0, 'disgust': 0.0, 'joy': 0.0}\n",
      "{'fear': 0.16666666666666666, 'anger': 0.0, 'anticip': 0.0, 'trust': 0.16666666666666666, 'surprise': 0.16666666666666666, 'positive': 0.16666666666666666, 'negative': 0.0, 'sadness': 0.0, 'disgust': 0.0, 'joy': 0.16666666666666666, 'anticipation': 0.16666666666666666}\n",
      "{'fear': 0.0, 'anger': 0.0, 'anticip': 0.0, 'trust': 0.0, 'surprise': 0.0, 'positive': 0.0, 'negative': 0.0, 'sadness': 0.0, 'disgust': 0.0, 'joy': 0.0}\n",
      "{'fear': 0.0, 'anger': 0.0, 'anticip': 0.0, 'trust': 0.0, 'surprise': 0.0, 'positive': 0.0, 'negative': 0.0, 'sadness': 0.0, 'disgust': 0.0, 'joy': 0.0}\n",
      "{'fear': 0.0, 'anger': 0.0, 'anticip': 0.0, 'trust': 0.0, 'surprise': 0.0, 'positive': 0.0, 'negative': 0.0, 'sadness': 0.0, 'disgust': 0.0, 'joy': 0.0}\n",
      "{'fear': 0.0, 'anger': 0.0, 'anticip': 0.0, 'trust': 0.0, 'surprise': 0.0, 'positive': 0.0, 'negative': 0.0, 'sadness': 0.0, 'disgust': 0.0, 'joy': 0.0}\n",
      "{'fear': 0.0, 'anger': 0.0, 'anticip': 0.0, 'trust': 0.2, 'surprise': 0.2, 'positive': 0.2, 'negative': 0.0, 'sadness': 0.0, 'disgust': 0.0, 'joy': 0.2, 'anticipation': 0.2}\n",
      "{'fear': 0.0, 'anger': 0.0, 'anticip': 0.0, 'trust': 0.0, 'surprise': 0.0, 'positive': 0.0, 'negative': 0.0, 'sadness': 0.0, 'disgust': 0.0, 'joy': 0.0}\n",
      "{'fear': 0.0, 'anger': 0.0, 'anticip': 0.0, 'trust': 0.0, 'surprise': 0.0, 'positive': 0.0, 'negative': 0.0, 'sadness': 0.0, 'disgust': 0.0, 'joy': 0.0}\n",
      "{'fear': 0.0, 'anger': 0.5, 'anticip': 0.0, 'trust': 0.0, 'surprise': 0.0, 'positive': 0.0, 'negative': 0.5, 'sadness': 0.0, 'disgust': 0.0, 'joy': 0.0}\n",
      "{'fear': 0.0, 'anger': 0.0, 'anticip': 0.0, 'trust': 0.0, 'surprise': 0.0, 'positive': 0.0, 'negative': 0.0, 'sadness': 0.0, 'disgust': 0.0, 'joy': 0.0}\n",
      "{'fear': 0.2, 'anger': 0.2, 'anticip': 0.0, 'trust': 0.0, 'surprise': 0.0, 'positive': 0.0, 'negative': 0.2, 'sadness': 0.2, 'disgust': 0.2, 'joy': 0.0}\n",
      "{'fear': 0.0, 'anger': 0.0, 'anticip': 0.0, 'trust': 0.0, 'surprise': 0.0, 'positive': 0.0, 'negative': 0.0, 'sadness': 0.0, 'disgust': 0.0, 'joy': 0.0}\n"
     ]
    }
   ],
   "source": [
    "for i in range(len(final_rage)):\n",
    "    emotion = NRCLex(final_rage[i])\n",
    "    print(emotion.affect_frequencies)"
   ]
  },
  {
   "cell_type": "code",
   "execution_count": null,
   "id": "132e4eea",
   "metadata": {},
   "outputs": [],
   "source": []
  }
 ],
 "metadata": {
  "kernelspec": {
   "display_name": "Python 3 (ipykernel)",
   "language": "python",
   "name": "python3"
  },
  "language_info": {
   "codemirror_mode": {
    "name": "ipython",
    "version": 3
   },
   "file_extension": ".py",
   "mimetype": "text/x-python",
   "name": "python",
   "nbconvert_exporter": "python",
   "pygments_lexer": "ipython3",
   "version": "3.9.16"
  }
 },
 "nbformat": 4,
 "nbformat_minor": 5
}
